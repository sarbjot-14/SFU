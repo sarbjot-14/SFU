{
 "cells": [
  {
   "cell_type": "code",
   "execution_count": 1,
   "metadata": {},
   "outputs": [],
   "source": [
    "import numpy as np\n",
    "import pandas as pd"
   ]
  },
  {
   "cell_type": "markdown",
   "metadata": {},
   "source": [
    "# Getting Started with Pandas"
   ]
  },
  {
   "cell_type": "code",
   "execution_count": 2,
   "metadata": {},
   "outputs": [],
   "source": [
    "totals = pd.read_csv('totals.csv').set_index(keys=['name'])\n",
    "counts = pd.read_csv('counts.csv').set_index(keys=['name'])\n"
   ]
  },
  {
   "cell_type": "code",
   "execution_count": 3,
   "metadata": {},
   "outputs": [],
   "source": [
    "#summing all rows (percip for each city) producing array\n",
    "citySums = totals.sum(axis=1)"
   ]
  },
  {
   "cell_type": "markdown",
   "metadata": {},
   "source": [
    "## City with lowest total precipitation:"
   ]
  },
  {
   "cell_type": "code",
   "execution_count": 4,
   "metadata": {},
   "outputs": [
    {
     "data": {
      "text/plain": [
       "'YELLOWKNIFE A'"
      ]
     },
     "execution_count": 4,
     "metadata": {},
     "output_type": "execute_result"
    }
   ],
   "source": [
    "smallestIndex = citySums.idxmin()\n",
    "smallestIndex"
   ]
  },
  {
   "cell_type": "code",
   "execution_count": 5,
   "metadata": {},
   "outputs": [],
   "source": [
    "#summing along columns to find total percip per month\n",
    "sumsOfMonths = totals.sum(axis = 0)"
   ]
  },
  {
   "cell_type": "code",
   "execution_count": 6,
   "metadata": {},
   "outputs": [],
   "source": [
    "#summing along columns to find total cities per month\n",
    "sumCountsMonth = counts.sum(axis=0)"
   ]
  },
  {
   "cell_type": "markdown",
   "metadata": {},
   "source": [
    "## Average precipitation in each month:"
   ]
  },
  {
   "cell_type": "code",
   "execution_count": 7,
   "metadata": {},
   "outputs": [
    {
     "data": {
      "text/plain": [
       "2016-01    27.779783\n",
       "2016-02    30.426295\n",
       "2016-03    29.410072\n",
       "2016-04    17.966543\n",
       "2016-05    21.344569\n",
       "2016-06    20.694981\n",
       "2016-07    24.977186\n",
       "2016-08    19.856618\n",
       "2016-09    24.065637\n",
       "2016-10    44.684411\n",
       "2016-11    34.615686\n",
       "2016-12    32.366795\n",
       "dtype: float64"
      ]
     },
     "execution_count": 7,
     "metadata": {},
     "output_type": "execute_result"
    }
   ],
   "source": [
    "avgPercipMonth = sumsOfMonths.divide(sumCountsMonth)\n",
    "avgPercipMonth"
   ]
  },
  {
   "cell_type": "code",
   "execution_count": 8,
   "metadata": {},
   "outputs": [],
   "source": [
    "sumsOfCities = totals.sum(axis = 1)\n"
   ]
  },
  {
   "cell_type": "code",
   "execution_count": 9,
   "metadata": {},
   "outputs": [],
   "source": [
    "sumCountsCities = counts.sum(axis=1)"
   ]
  },
  {
   "cell_type": "markdown",
   "metadata": {},
   "source": [
    "##  Average precipitation in each city:"
   ]
  },
  {
   "cell_type": "code",
   "execution_count": 10,
   "metadata": {},
   "outputs": [
    {
     "data": {
      "text/plain": [
       "name\n",
       "BURNABY SIMON FRASER U            47.778598\n",
       "CALGARY INTL A                    14.333333\n",
       "GANDER INTL A                     39.912329\n",
       "HALIFAX INTL A                    41.445055\n",
       "REVELSTOKE                        23.409972\n",
       "SHERBROOKE                        23.681440\n",
       "TORONTO LESTER B. PEARSON INT'    17.521978\n",
       "VANCOUVER INTL A                  36.522222\n",
       "YELLOWKNIFE A                      6.154270\n",
       "dtype: float64"
      ]
     },
     "execution_count": 10,
     "metadata": {},
     "output_type": "execute_result"
    }
   ],
   "source": [
    "avgPercipCities = sumsOfCities.divide(sumCountsCities)\n",
    "avgPercipCities"
   ]
  }
 ],
 "metadata": {
  "kernelspec": {
   "display_name": "Python 3",
   "language": "python",
   "name": "python3"
  },
  "language_info": {
   "codemirror_mode": {
    "name": "ipython",
    "version": 3
   },
   "file_extension": ".py",
   "mimetype": "text/x-python",
   "name": "python",
   "nbconvert_exporter": "python",
   "pygments_lexer": "ipython3",
   "version": "3.7.3"
  }
 },
 "nbformat": 4,
 "nbformat_minor": 2
}
