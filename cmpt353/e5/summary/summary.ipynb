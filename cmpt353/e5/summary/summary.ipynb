{
 "cells": [
  {
   "cell_type": "code",
   "execution_count": 1,
   "metadata": {},
   "outputs": [],
   "source": [
    "import numpy as np\n",
    "import pandas as pd\n",
    "import datetime as dt\n",
    "import matplotlib.pyplot as plt\n",
    "from datetime import datetime\n",
    "import re\n",
    "import time\n",
    "import scipy\n",
    "from scipy import stats\n"
   ]
  },
  {
   "cell_type": "code",
   "execution_count": 2,
   "metadata": {},
   "outputs": [],
   "source": [
    "df_collection = {}\n",
    "data_1 = pd.read_csv('data-1.csv')\n",
    "df_collection[0] = pd.read_csv('data-1.csv')\n",
    "df_collection[1] = pd.read_csv('data-2.csv')\n",
    "df_collection[2] = pd.read_csv('data-3.csv')\n",
    "df_collection[3] = pd.read_csv('data-4.csv')\n",
    "df_collection[4] = pd.read_csv('data-5.csv')\n",
    "df_collection[5] = pd.read_csv('data-6.csv')\n",
    "\n"
   ]
  },
  {
   "cell_type": "code",
   "execution_count": 12,
   "metadata": {},
   "outputs": [
    {
     "name": "stdout",
     "output_type": "stream",
     "text": [
      "0\n",
      "means\n",
      "x     8.717696\n",
      "y    12.522874\n",
      "dtype: float64\n",
      "\n",
      "\n",
      "standard deviations\n",
      "\t x:\n",
      "12.09458693659896\n",
      "\t y:\n",
      "6.606680770370137\n",
      "\n",
      "\n",
      "max and min\n",
      "\tmax for x\n",
      "35.23705548785129\n",
      "\tmin for x\n",
      "-22.635877790008944\n",
      "\tmax for y\n",
      "27.38415261152477\n",
      "\tmin for y\n",
      "-2.5650878326932127\n",
      "\n",
      "\n",
      "correlation coefficient\n",
      "0.9503256954375482\n",
      "1\n",
      "means\n",
      "x   -0.710787\n",
      "y   -0.748987\n",
      "dtype: float64\n",
      "\n",
      "\n",
      "standard deviations\n",
      "\t x:\n",
      "11.424031427941332\n",
      "\t y:\n",
      "6.226549791205469\n",
      "\n",
      "\n",
      "max and min\n",
      "\tmax for x\n",
      "27.6470003722073\n",
      "\tmin for x\n",
      "-33.2711130771198\n",
      "\tmax for y\n",
      "14.147314992317481\n",
      "\tmin for y\n",
      "-18.621803760419066\n",
      "\n",
      "\n",
      "correlation coefficient\n",
      "0.9551531665750372\n",
      "2\n",
      "means\n",
      "x    0.968907\n",
      "y    8.508535\n",
      "dtype: float64\n",
      "\n",
      "\n",
      "standard deviations\n",
      "\t x:\n",
      "2.2318288211623574\n",
      "\t y:\n",
      "1.1473837107336815\n",
      "\n",
      "\n",
      "max and min\n",
      "\tmax for x\n",
      "4.51888491755363\n",
      "\tmin for x\n",
      "-2.4490643296742807\n",
      "\tmax for y\n",
      "10.551871022804317\n",
      "\tmin for y\n",
      "6.641734490391762\n",
      "\n",
      "\n",
      "correlation coefficient\n",
      "0.9819372646760663\n",
      "3\n",
      "means\n",
      "x    49.905086\n",
      "y    18.553837\n",
      "dtype: float64\n",
      "\n",
      "\n",
      "standard deviations\n",
      "\t x:\n",
      "28.38755430203193\n",
      "\t y:\n",
      "16.4756375419362\n",
      "\n",
      "\n",
      "max and min\n",
      "\tmax for x\n",
      "87.3767\n",
      "\tmin for x\n",
      "0.0\n",
      "\tmax for y\n",
      "44.56504\n",
      "\tmin for y\n",
      "0.0\n",
      "\n",
      "\n",
      "correlation coefficient\n",
      "-0.08119306735490815\n",
      "4\n",
      "means\n",
      "x    49.909994\n",
      "y    18.555525\n",
      "dtype: float64\n",
      "\n",
      "\n",
      "standard deviations\n",
      "\t x:\n",
      "28.378981284825986\n",
      "\t y:\n",
      "16.470559057583237\n",
      "\n",
      "\n",
      "max and min\n",
      "\tmax for x\n",
      "91.0528633396976\n",
      "\tmin for x\n",
      "4.337892453674525\n",
      "\tmax for y\n",
      "49.93419703633311\n",
      "\tmin for y\n",
      "0.05549750758115175\n",
      "\n",
      "\n",
      "correlation coefficient\n",
      "-0.08823598983058885\n",
      "5\n",
      "means\n",
      "x    7.216155\n",
      "y    7.602215\n",
      "dtype: float64\n",
      "\n",
      "\n",
      "standard deviations\n",
      "\t x:\n",
      "11.861841302343018\n",
      "\t y:\n",
      "11.70541274804915\n",
      "\n",
      "\n",
      "max and min\n",
      "\tmax for x\n",
      "35.402138910929\n",
      "\tmin for x\n",
      "-24.33382075234097\n",
      "\tmax for y\n",
      "36.07987403078143\n",
      "\tmin for y\n",
      "-22.9563569970746\n",
      "\n",
      "\n",
      "correlation coefficient\n",
      "0.9350685662094906\n"
     ]
    }
   ],
   "source": [
    "for i in range(6):\n",
    "    print(i)\n",
    "    print(\"means\")\n",
    "    print(df_collection[i].mean(axis= 0, skipna = True))\n",
    "    print(\"\\n\\nstandard deviations\")\n",
    "    print(\"\\t x:\")\n",
    "    print(np.std(df_collection[i]['x']))\n",
    "    print(\"\\t y:\")\n",
    "    print(np.std(df_collection[i]['y']))\n",
    "    print(\"\\n\\nmax and min\")\n",
    "    print(\"\\tmax for x\")\n",
    "    print(df_collection[i]['x'].max())\n",
    "    print(\"\\tmin for x\")\n",
    "    print(df_collection[i]['x'].min())\n",
    "    print(\"\\tmax for y\")\n",
    "    print(df_collection[i]['y'].max())\n",
    "    print(\"\\tmin for y\")\n",
    "    print(df_collection[i]['y'].min())\n",
    "    print(\"\\n\\ncorrelation coefficient\")\n",
    "    print(df_collection[i]['x'].corr(df_collection[i]['y']))\n",
    "   \n",
    "    \n",
    "    \n",
    "    \n",
    "    "
   ]
  },
  {
   "cell_type": "code",
   "execution_count": 4,
   "metadata": {},
   "outputs": [],
   "source": [
    "#df_collection[0].mean(axis= 0, skipna = True)"
   ]
  },
  {
   "cell_type": "code",
   "execution_count": 5,
   "metadata": {},
   "outputs": [],
   "source": [
    "#np.std(data_1['x'])\n"
   ]
  },
  {
   "cell_type": "code",
   "execution_count": 6,
   "metadata": {},
   "outputs": [],
   "source": [
    "#np.std(data_1['y'])"
   ]
  },
  {
   "cell_type": "code",
   "execution_count": 7,
   "metadata": {},
   "outputs": [
    {
     "data": {
      "text/plain": [
       "35.23705548785129"
      ]
     },
     "execution_count": 7,
     "metadata": {},
     "output_type": "execute_result"
    }
   ],
   "source": [
    "data_1['x'].max()"
   ]
  },
  {
   "cell_type": "code",
   "execution_count": 8,
   "metadata": {},
   "outputs": [
    {
     "data": {
      "text/plain": [
       "-22.635877790008944"
      ]
     },
     "execution_count": 8,
     "metadata": {},
     "output_type": "execute_result"
    }
   ],
   "source": [
    "data_1['x'].min()"
   ]
  },
  {
   "cell_type": "code",
   "execution_count": 9,
   "metadata": {},
   "outputs": [
    {
     "data": {
      "text/plain": [
       "27.38415261152477"
      ]
     },
     "execution_count": 9,
     "metadata": {},
     "output_type": "execute_result"
    }
   ],
   "source": [
    "data_1['y'].max()"
   ]
  },
  {
   "cell_type": "code",
   "execution_count": 10,
   "metadata": {},
   "outputs": [
    {
     "data": {
      "text/plain": [
       "-2.5650878326932127"
      ]
     },
     "execution_count": 10,
     "metadata": {},
     "output_type": "execute_result"
    }
   ],
   "source": [
    "data_1['y'].min()"
   ]
  },
  {
   "cell_type": "code",
   "execution_count": 11,
   "metadata": {},
   "outputs": [
    {
     "name": "stdout",
     "output_type": "stream",
     "text": [
      "0\n",
      "1\n",
      "2\n",
      "3\n",
      "4\n"
     ]
    }
   ],
   "source": [
    "for i in range(5):\n",
    "    print(i)\n",
    "    "
   ]
  },
  {
   "cell_type": "code",
   "execution_count": null,
   "metadata": {},
   "outputs": [],
   "source": []
  }
 ],
 "metadata": {
  "kernelspec": {
   "display_name": "Python 3",
   "language": "python",
   "name": "python3"
  },
  "language_info": {
   "codemirror_mode": {
    "name": "ipython",
    "version": 3
   },
   "file_extension": ".py",
   "mimetype": "text/x-python",
   "name": "python",
   "nbconvert_exporter": "python",
   "pygments_lexer": "ipython3",
   "version": "3.7.3"
  }
 },
 "nbformat": 4,
 "nbformat_minor": 2
}
